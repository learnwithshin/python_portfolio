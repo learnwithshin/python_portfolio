{
 "cells": [
  {
   "cell_type": "markdown",
   "metadata": {},
   "source": [
    "# Execute SQL queries from Python"
   ]
  },
  {
   "cell_type": "code",
   "execution_count": 19,
   "metadata": {},
   "outputs": [
    {
     "name": "stdout",
     "output_type": "stream",
     "text": [
      "[(1, 'item1', 'abc123', 1, '2021-1-2'), (2, 'item2', 'abc124', 1, '2021-1-2'), (3, 'item1', 'abc125', 1, '2021-1-3'), (4, 'item4', 'abc126', 2, '2021-1-3'), (5, 'item1', 'abc123', 1, '2021-2-1'), (6, 'item1', 'abc123', 1, '2021-2-1')]\n"
     ]
    }
   ],
   "source": [
    "'''This is assuming that we already created the tables and records we saw in the class.'''\n",
    "\n",
    "# get data\n",
    "import sqlite3\n",
    "\n",
    "\n",
    "get_all_qry = \"\"\"\n",
    "SELECT * FROM sales;\n",
    "\"\"\"\n",
    "\n",
    "# make a connection with the database\n",
    "conn = sqlite3.connect('test.db')\n",
    "\n",
    "# create cursor - a control structure that enables traversal over the records in a database\n",
    "cursor = conn.cursor()\n",
    "cursor.execute(get_all_qry)\n",
    "print(cursor.fetchall())\n",
    "\n",
    "# make sure you close the connection in the end\n",
    "conn.close()"
   ]
  },
  {
   "cell_type": "code",
   "execution_count": 21,
   "metadata": {},
   "outputs": [],
   "source": [
    "# in order not to forget to close connection...let's make a function for this\n",
    "from contextlib import closing\n",
    "\n",
    "def get_data(db, qry):\n",
    "    \"\"\"Provide the database name and query to get data.\"\"\"\n",
    "    with closing(sqlite3.connect(db)) as conn:\n",
    "        c = conn.cursor()\n",
    "        c.execute(qry)\n",
    "        data = c.fetchall()\n",
    "    return data"
   ]
  },
  {
   "cell_type": "code",
   "execution_count": 22,
   "metadata": {},
   "outputs": [
    {
     "data": {
      "text/plain": [
       "[(1, 'item1', 'abc123', 1, '2021-1-2'),\n",
       " (2, 'item2', 'abc124', 1, '2021-1-2'),\n",
       " (3, 'item1', 'abc125', 1, '2021-1-3'),\n",
       " (4, 'item4', 'abc126', 2, '2021-1-3'),\n",
       " (5, 'item1', 'abc123', 1, '2021-2-1'),\n",
       " (6, 'item1', 'abc123', 1, '2021-2-1')]"
      ]
     },
     "execution_count": 22,
     "metadata": {},
     "output_type": "execute_result"
    }
   ],
   "source": [
    "get_data('test.db', get_all_qry)"
   ]
  },
  {
   "cell_type": "code",
   "execution_count": 24,
   "metadata": {},
   "outputs": [
    {
     "data": {
      "text/plain": [
       "[(1, 'item1', 'abc123', 1, '2021-1-2'),\n",
       " (2, 'item2', 'abc124', 1, '2021-1-2'),\n",
       " (3, 'item1', 'abc125', 1, '2021-1-3'),\n",
       " (4, 'item4', 'abc126', 2, '2021-1-3'),\n",
       " (5, 'item1', 'abc123', 1, '2021-2-1'),\n",
       " (6, 'item1', 'abc123', 1, '2021-2-1')]"
      ]
     },
     "execution_count": 24,
     "metadata": {},
     "output_type": "execute_result"
    }
   ],
   "source": [
    "# join products table\n",
    "get_sales_qry = \"\"\"\n",
    "SELECT * FROM sales JOIN products on sales.product_id=products.product_id;\n",
    "\"\"\"\n",
    "get_data('test.db', get_all_qry)"
   ]
  },
  {
   "cell_type": "code",
   "execution_count": 21,
   "metadata": {},
   "outputs": [],
   "source": [
    "# we can also insert data\n",
    "\n",
    "insert_qry = \"\"\"\n",
    "INSERT INTO sales(\n",
    "    product_id, customer_id, unit, date\n",
    ") VALUES (\n",
    "    'item1', 'abc123', 1, '2021-2-1'\n",
    ")\n",
    "\"\"\"\n",
    "\n",
    "def insert_data(qry):\n",
    "    with closing(sqlite3.connect('test.db')) as conn:\n",
    "        # create cursor - a control structure that enables traversal over the records in a database\n",
    "        c = conn.cursor()\n",
    "        c.execute(qry)\n",
    "        conn.commit()\n",
    "    print(\"Done\")"
   ]
  },
  {
   "cell_type": "code",
   "execution_count": 22,
   "metadata": {},
   "outputs": [
    {
     "name": "stdout",
     "output_type": "stream",
     "text": [
      "Done\n"
     ]
    }
   ],
   "source": [
    "insert_data(insert_qry)"
   ]
  },
  {
   "cell_type": "code",
   "execution_count": 27,
   "metadata": {},
   "outputs": [
    {
     "data": {
      "text/plain": [
       "[(1, 'item1', 'abc123', 1, '2021-1-2'),\n",
       " (2, 'item2', 'abc124', 1, '2021-1-2'),\n",
       " (3, 'item1', 'abc125', 1, '2021-1-3'),\n",
       " (4, 'item4', 'abc126', 2, '2021-1-3'),\n",
       " (5, 'item1', 'abc123', 1, '2021-2-1'),\n",
       " (6, 'item1', 'abc123', 1, '2021-2-1')]"
      ]
     },
     "execution_count": 27,
     "metadata": {},
     "output_type": "execute_result"
    }
   ],
   "source": [
    "get_data('test.db', get_all_qry) # now you can see the record added"
   ]
  },
  {
   "cell_type": "markdown",
   "metadata": {},
   "source": [
    "# We can use python to create databse and tables\n",
    "\n",
    "Below script lets you create the tables and records we walked through in the class using sqlite3 command line tool. We can use python to do the same!"
   ]
  },
  {
   "cell_type": "code",
   "execution_count": 30,
   "metadata": {},
   "outputs": [],
   "source": [
    "import sqlite3\n",
    "\n",
    "# read in our sql file, make sure you have this file in your current directory\n",
    "example_qry = open(\"example.sql\", \"r\").read()\n",
    "\n",
    "conn = sqlite3.connect('test2.db')  # this will create a database called test2.db\n",
    "cursor = conn.cursor()\n",
    "cursor.executescript(example_qry)  # when excuting multiple statements, use executescript\n",
    "conn.commit()\n",
    "\n",
    "# make sure you close the connection\n",
    "conn.close()"
   ]
  },
  {
   "cell_type": "code",
   "execution_count": 31,
   "metadata": {},
   "outputs": [
    {
     "data": {
      "text/plain": [
       "[(1, 'item1', 'abc123', 1, '2021-1-2'),\n",
       " (2, 'item2', 'abc124', 1, '2021-1-2'),\n",
       " (3, 'item1', 'abc125', 1, '2021-1-3'),\n",
       " (4, 'item4', 'abc126', 2, '2021-1-3')]"
      ]
     },
     "execution_count": 31,
     "metadata": {},
     "output_type": "execute_result"
    }
   ],
   "source": [
    "# now you can run your query with this database test2.db!\n",
    "get_data('test2.db', get_all_qry)"
   ]
  }
 ],
 "metadata": {
  "kernelspec": {
   "display_name": "Python 3.6.5 64-bit ('base': conda)",
   "language": "python",
   "name": "python36564bitbaseconda073a1d18fb274a708cf9265a3dde63f5"
  },
  "language_info": {
   "codemirror_mode": {
    "name": "ipython",
    "version": 3
   },
   "file_extension": ".py",
   "mimetype": "text/x-python",
   "name": "python",
   "nbconvert_exporter": "python",
   "pygments_lexer": "ipython3",
   "version": "3.6.5"
  }
 },
 "nbformat": 4,
 "nbformat_minor": 2
}
