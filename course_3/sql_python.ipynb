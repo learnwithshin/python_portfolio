{
 "cells": [
  {
   "cell_type": "markdown",
   "metadata": {},
   "source": [
    "# Execute SQL queries from Python"
   ]
  },
  {
   "cell_type": "code",
   "execution_count": 24,
   "metadata": {},
   "outputs": [
    {
     "name": "stdout",
     "output_type": "stream",
     "text": [
      "[(1, 'item1', 'abc123', 1, '2021-1-2'), (2, 'item2', 'abc124', 1, '2021-1-2'), (3, 'item1', 'abc125', 1, '2021-1-3'), (4, 'item4', 'abc126', 2, '2021-1-3'), (5, 'item1', 'abc123', 1, '2021-2-1'), (6, 'item1', 'abc123', 1, '2021-2-1')]\n"
     ]
    }
   ],
   "source": [
    "# get data\n",
    "import sqlite3\n",
    "\n",
    "\n",
    "get_all_qry = \"\"\"\n",
    "SELECT * FROM sales;\n",
    "\"\"\"\n",
    "\n",
    "# create a connection with the database\n",
    "conn = sqlite3.connect('test.db')\n",
    "\n",
    "# create cursor - a control structure that enables traversal over the records in a database\n",
    "cursor = conn.cursor()\n",
    "cursor.execute(get_all_qry)\n",
    "print(cursor.fetchall())\n",
    "\n",
    "# make sure you close the connection in the end\n",
    "conn.close()"
   ]
  },
  {
   "cell_type": "code",
   "execution_count": 17,
   "metadata": {},
   "outputs": [],
   "source": [
    "# in order not to forget to close connection...let's make a function for this\n",
    "from contextlib import closing\n",
    "\n",
    "def get_data(qry):\n",
    "    with closing(sqlite3.connect('test.db')) as conn:\n",
    "        # create cursor - a control structure that enables traversal over the records in a database\n",
    "        c = conn.cursor()\n",
    "        c.execute(qry)\n",
    "        data = c.fetchall()\n",
    "    return data\n",
    "    "
   ]
  },
  {
   "cell_type": "code",
   "execution_count": 19,
   "metadata": {},
   "outputs": [
    {
     "data": {
      "text/plain": [
       "[(1, 'item1', 'abc123', 1, '2021-1-2'),\n",
       " (2, 'item2', 'abc124', 1, '2021-1-2'),\n",
       " (3, 'item1', 'abc125', 1, '2021-1-3'),\n",
       " (4, 'item4', 'abc126', 2, '2021-1-3'),\n",
       " (5, 'item1', 'abc123', 1, '2021-2-1')]"
      ]
     },
     "execution_count": 19,
     "metadata": {},
     "output_type": "execute_result"
    }
   ],
   "source": [
    "get_data(get_all_qry)"
   ]
  },
  {
   "cell_type": "code",
   "execution_count": 20,
   "metadata": {},
   "outputs": [
    {
     "data": {
      "text/plain": [
       "[(1, 'item1', 'abc123', 1, '2021-1-2'),\n",
       " (2, 'item2', 'abc124', 1, '2021-1-2'),\n",
       " (3, 'item1', 'abc125', 1, '2021-1-3'),\n",
       " (4, 'item4', 'abc126', 2, '2021-1-3'),\n",
       " (5, 'item1', 'abc123', 1, '2021-2-1')]"
      ]
     },
     "execution_count": 20,
     "metadata": {},
     "output_type": "execute_result"
    }
   ],
   "source": [
    "# join products table\n",
    "get_sales_qry = \"\"\"\n",
    "SELECT * FROM sales JOIN products on sales.product_id=products.product_id;\n",
    "\"\"\"\n",
    "get_data(get_all_qry)"
   ]
  },
  {
   "cell_type": "code",
   "execution_count": 21,
   "metadata": {},
   "outputs": [],
   "source": [
    "# we can also insert data\n",
    "\n",
    "insert_qry = \"\"\"\n",
    "INSERT INTO sales(\n",
    "    product_id, customer_id, unit, date\n",
    ") VALUES (\n",
    "    'item1', 'abc123', 1, '2021-2-1'\n",
    ")\n",
    "\"\"\"\n",
    "\n",
    "def insert_data(qry):\n",
    "    with closing(sqlite3.connect('test.db')) as conn:\n",
    "        # create cursor - a control structure that enables traversal over the records in a database\n",
    "        c = conn.cursor()\n",
    "        c.execute(qry)\n",
    "        conn.commit()\n",
    "    print(\"Done\")"
   ]
  },
  {
   "cell_type": "code",
   "execution_count": 22,
   "metadata": {},
   "outputs": [
    {
     "name": "stdout",
     "output_type": "stream",
     "text": [
      "Done\n"
     ]
    }
   ],
   "source": [
    "insert_data(insert_qry)"
   ]
  },
  {
   "cell_type": "code",
   "execution_count": 23,
   "metadata": {},
   "outputs": [
    {
     "data": {
      "text/plain": [
       "[(1, 'item1', 'abc123', 1, '2021-1-2'),\n",
       " (2, 'item2', 'abc124', 1, '2021-1-2'),\n",
       " (3, 'item1', 'abc125', 1, '2021-1-3'),\n",
       " (4, 'item4', 'abc126', 2, '2021-1-3'),\n",
       " (5, 'item1', 'abc123', 1, '2021-2-1'),\n",
       " (6, 'item1', 'abc123', 1, '2021-2-1')]"
      ]
     },
     "execution_count": 23,
     "metadata": {},
     "output_type": "execute_result"
    }
   ],
   "source": [
    "get_data(my_qry)"
   ]
  }
 ],
 "metadata": {
  "kernelspec": {
   "display_name": "Python 3.6.5 64-bit ('base': conda)",
   "language": "python",
   "name": "python36564bitbaseconda073a1d18fb274a708cf9265a3dde63f5"
  },
  "language_info": {
   "codemirror_mode": {
    "name": "ipython",
    "version": 3
   },
   "file_extension": ".py",
   "mimetype": "text/x-python",
   "name": "python",
   "nbconvert_exporter": "python",
   "pygments_lexer": "ipython3",
   "version": "3.6.5"
  }
 },
 "nbformat": 4,
 "nbformat_minor": 2
}
