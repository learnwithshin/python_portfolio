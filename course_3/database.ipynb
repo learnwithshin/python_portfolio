{
 "cells": [
  {
   "cell_type": "markdown",
   "metadata": {},
   "source": [
    "# Introducing Sqlite database\n",
    "\n",
    "Sqlite is a server-less database with full features you need for a database. It's light and comes with python so saves you the trouble for setup."
   ]
  },
  {
   "cell_type": "markdown",
   "metadata": {},
   "source": [
    "Let's run the following command on the terminal to set up a database called `test.db`.\n",
    "\n",
    "\n",
    "```bash\n",
    "\n",
    "# this will connect you with the a database called test.db\n",
    "sqlite3 test.db \n",
    "\n",
    "# configuration\n",
    "sqlite> .headers on\n",
    "sqlite> .mode column\n",
    "```"
   ]
  },
  {
   "cell_type": "markdown",
   "metadata": {},
   "source": [
    "## Basic commands and queries\n"
   ]
  },
  {
   "cell_type": "markdown",
   "metadata": {},
   "source": [
    "\n",
    "\n",
    "Once connected to sqlite database, you can start entering queries.\n",
    "\n",
    "We will start by creating a table: \n",
    "\n",
    "```bash\n",
    "\n",
    "\n",
    "# create a table and specify the columns\n",
    "sqlite> CREATE TABLE users (\n",
    "    user_id INTEGER PRIMARY KEY AUTOINCREMENT,\n",
    "\tfirst_name VARCHAR(50),\n",
    "    last_name VARCHAR(50),\n",
    "\tage INTEGER\n",
    "    );\n",
    "\n",
    "# to see all the tables\n",
    "sqlite> .tables\n",
    "\n",
    "# insert records to the table\n",
    "sqlite> INSERT INTO users (\n",
    "    first_name, last_name, age)\n",
    "    VALUES ('John', 'Smith', 30\n",
    "    );\n",
    "    \n",
    "sqlite> INSERT INTO users (\n",
    "    first_name, last_name, age)\n",
    "    VALUES ('Bob', 'Chen', 40\n",
    "    );\n",
    "    \n",
    "# select all records\n",
    "sqlite> SELECT * FROM users;\n",
    "\n",
    "```"
   ]
  },
  {
   "cell_type": "markdown",
   "metadata": {},
   "source": [
    "```bash\n",
    "# to drop table\n",
    "sqlite> DROP TABLE users\n",
    "\n",
    "# execute query from a file\n",
    "sqlite> .read example.sql\n",
    "\n",
    "# see the sales table\n",
    "sqlite> SELECT * FROM sales;\n",
    "\n",
    "# make a join query\n",
    "sqlite> SELECT * FROM sales JOIN products ON sales.product_id = products.product_id;\n",
    "\n",
    "# multiple join\n",
    "sqlite> SELECT * FROM sales JOIN customers ON sales.customer_id = customers.customer_id JOIN products ON sales.product_id = products.product_id JOIN vip ON customers.vip_level = vip.vip_level;\n",
    "\n",
    "```"
   ]
  },
  {
   "cell_type": "markdown",
   "metadata": {},
   "source": [
    "## Let's prepare the tables for our data"
   ]
  },
  {
   "cell_type": "markdown",
   "metadata": {},
   "source": [
    "Go to our vaccination_project repository and run these commands. Make sure you have your `vaccination.sql` available in the repo.\n",
    "\n",
    "```bash\n",
    "\n",
    "# make a new database called vaccination.db\n",
    "sqlite3 vaccination.db\n",
    "\n",
    "# read in the queries from a file\n",
    "sqlite> .read vaccination.sql\n",
    "\n",
    "```"
   ]
  },
  {
   "cell_type": "code",
   "execution_count": null,
   "metadata": {},
   "outputs": [],
   "source": []
  }
 ],
 "metadata": {
  "kernelspec": {
   "display_name": "Python 3.6.5 64-bit ('base': conda)",
   "language": "python",
   "name": "python36564bitbaseconda073a1d18fb274a708cf9265a3dde63f5"
  },
  "language_info": {
   "codemirror_mode": {
    "name": "ipython",
    "version": 3
   },
   "file_extension": ".py",
   "mimetype": "text/x-python",
   "name": "python",
   "nbconvert_exporter": "python",
   "pygments_lexer": "ipython3",
   "version": "3.6.5"
  }
 },
 "nbformat": 4,
 "nbformat_minor": 4
}
