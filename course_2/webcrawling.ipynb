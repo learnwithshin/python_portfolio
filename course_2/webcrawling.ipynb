{
 "cells": [
  {
   "cell_type": "markdown",
   "metadata": {},
   "source": [
    "# Build a webscraper"
   ]
  },
  {
   "cell_type": "code",
   "execution_count": 1,
   "metadata": {},
   "outputs": [
    {
     "name": "stdout",
     "output_type": "stream",
     "text": [
      "Requirement already satisfied: beautifulsoup4 in /anaconda3/lib/python3.6/site-packages (4.6.0)\n",
      "\u001b[33mWARNING: You are using pip version 19.2.3, however version 21.0.1 is available.\n",
      "You should consider upgrading via the 'pip install --upgrade pip' command.\u001b[0m\n"
     ]
    }
   ],
   "source": [
    "# install beautifulesoup\n",
    "!python3 -m pip install beautifulsoup4  "
   ]
  },
  {
   "cell_type": "code",
   "execution_count": 2,
   "metadata": {},
   "outputs": [],
   "source": [
    "import requests\n",
    "\n",
    "url = \"https://www.apple.com/newsroom/2021/01/apple-reports-first-quarter-results/\"\n",
    "\n",
    "res = requests.get(url)"
   ]
  },
  {
   "cell_type": "code",
   "execution_count": 3,
   "metadata": {},
   "outputs": [],
   "source": [
    "res.content"
   ]
  },
  {
   "cell_type": "code",
   "execution_count": 4,
   "metadata": {},
   "outputs": [],
   "source": [
    "# give us a string in html format\n",
    "page_content = res.content.decode(\"utf-8\")"
   ]
  },
  {
   "cell_type": "code",
   "execution_count": 5,
   "metadata": {},
   "outputs": [],
   "source": [
    "from bs4 import BeautifulSoup\n",
    "\n",
    "# create a beautifulsoup object\n",
    "# it knows how to parse the big string that looks like html\n",
    "soup = BeautifulSoup(page_content, \"html.parser\")\n"
   ]
  },
  {
   "cell_type": "markdown",
   "metadata": {},
   "source": [
    "### Find the elements\n",
    "\n",
    "The common ways to identify an element:\n",
    "\n",
    "- by tag \n",
    "  - For example, \n",
    "  - `<header>`, `<body>`, `<div>`...\n",
    "    \n",
    "    Then you can narrow down the search by adding the attributes, common ones for example:\n",
    "    \n",
    "    - by class\n",
    "      - an element can have `class` attribute which you can use to search\n",
    "  \n",
    "    - by id\n",
    "      - an element can have `id` attribute which you can use to search"
   ]
  },
  {
   "cell_type": "code",
   "execution_count": 6,
   "metadata": {
    "scrolled": false
   },
   "outputs": [],
   "source": [
    "# use .find method to find article tag\n",
    "article = soup.find('article')"
   ]
  },
  {
   "cell_type": "code",
   "execution_count": 8,
   "metadata": {},
   "outputs": [],
   "source": [
    "# use .find_all method to find all div tags. This will return a list\n",
    "article.find_all('div')[0]  # find all div tags"
   ]
  },
  {
   "cell_type": "code",
   "execution_count": 9,
   "metadata": {},
   "outputs": [],
   "source": [
    "# find the tag along with attributes\n",
    "summary = article.find('div', class_=\"summary text component\")"
   ]
  },
  {
   "cell_type": "code",
   "execution_count": 10,
   "metadata": {},
   "outputs": [
    {
     "data": {
      "text/plain": [
       "<div class=\"summary text component\">\n",
       "<div class=\"component-content\">\n",
       "<p class=\"summary-copy\">\n",
       "            \n",
       "\n",
       "\t\t\t\t\n",
       "      \t\t\t\t Revenue up 21 percent and EPS up 35 percent to new all-time records<br/><br/>\n",
       "iPhone, Wearables, and Services set new revenue records\n",
       "               \n",
       "               </p>\n",
       "</div>\n",
       "</div>"
      ]
     },
     "execution_count": 10,
     "metadata": {},
     "output_type": "execute_result"
    }
   ],
   "source": [
    "summary"
   ]
  },
  {
   "cell_type": "code",
   "execution_count": 11,
   "metadata": {},
   "outputs": [
    {
     "data": {
      "text/plain": [
       "<div class=\"pagebody-copy\">Cupertino, California — January 27, 2021 — Apple today announced financial results for its fiscal 2021 first quarter ended December 26, 2020. The Company posted all-time record revenue of $111.4 billion, up 21 percent year over year, and quarterly earnings per diluted share of $1.68, up 35 percent. International sales accounted for 64 percent of the quarter’s revenue.\n",
       "</div>"
      ]
     },
     "execution_count": 11,
     "metadata": {},
     "output_type": "execute_result"
    }
   ],
   "source": [
    "# let's find the first paragraph\n",
    "article.find_all('div', class_=\"pagebody-copy\")[0]  "
   ]
  },
  {
   "cell_type": "markdown",
   "metadata": {},
   "source": [
    "## bytes vs string"
   ]
  },
  {
   "cell_type": "code",
   "execution_count": 44,
   "metadata": {},
   "outputs": [],
   "source": [
    "# In python, it represents bytes in ACSII format.\n",
    "# just to show you how bytes are different than string\n",
    "res = requests.get(\"https://www.moi.gov.tw/\")\n",
    "res.content  # this will be bytes"
   ]
  },
  {
   "cell_type": "code",
   "execution_count": 45,
   "metadata": {
    "scrolled": false
   },
   "outputs": [],
   "source": [
    "res.content.decode(\"utf-8\")  # now you can see chinese characters"
   ]
  },
  {
   "cell_type": "markdown",
   "metadata": {},
   "source": [
    "## Scrape the content for our project\n",
    "\n",
    "For our project, we are going to scrape the files from our [website](\"https://learnwithshin.github.io/docs/files/\")."
   ]
  },
  {
   "cell_type": "code",
   "execution_count": 14,
   "metadata": {},
   "outputs": [],
   "source": [
    "# get contents from our website\n",
    "url = \"https://learnwithshin.github.io/docs/files/\"\n",
    "\n",
    "res = requests.get(url)"
   ]
  },
  {
   "cell_type": "code",
   "execution_count": 15,
   "metadata": {},
   "outputs": [],
   "source": [
    "page_content = res.content.decode(\"utf-8\")"
   ]
  },
  {
   "cell_type": "code",
   "execution_count": 16,
   "metadata": {},
   "outputs": [],
   "source": [
    "from bs4 import BeautifulSoup\n",
    "\n",
    "# create a beautifulsoup object\n",
    "# it knows how to parse the big string that looks like html\n",
    "soup = BeautifulSoup(page_content, \"html.parser\")\n"
   ]
  },
  {
   "cell_type": "code",
   "execution_count": 17,
   "metadata": {},
   "outputs": [],
   "source": [
    "# find article tag\n",
    "article = soup.find('article')"
   ]
  },
  {
   "cell_type": "code",
   "execution_count": 18,
   "metadata": {},
   "outputs": [],
   "source": [
    "# find the anchor tag which contains the url\n",
    "anchors = article.find_all(\"a\")"
   ]
  },
  {
   "cell_type": "code",
   "execution_count": 19,
   "metadata": {},
   "outputs": [
    {
     "data": {
      "text/plain": [
       "[<a href=\"../assets/countries_03_08_21.csv\"><code>countries_03_08_21.csv</code></a>,\n",
       " <a href=\"../assets/country_vaccination_ts_03_08_21.csv\"><code>country_vaccination_ts_03_08_21.csv</code></a>]"
      ]
     },
     "execution_count": 19,
     "metadata": {},
     "output_type": "execute_result"
    }
   ],
   "source": [
    "# see all the file links\n",
    "anchors"
   ]
  },
  {
   "cell_type": "code",
   "execution_count": 20,
   "metadata": {},
   "outputs": [],
   "source": [
    "country_tag = anchors[0]\n",
    "data_tag = anchors[1]"
   ]
  },
  {
   "cell_type": "code",
   "execution_count": 21,
   "metadata": {},
   "outputs": [
    {
     "data": {
      "text/plain": [
       "'../assets/countries_03_08_21.csv'"
      ]
     },
     "execution_count": 21,
     "metadata": {},
     "output_type": "execute_result"
    }
   ],
   "source": [
    "# get the attribute for an element\n",
    "coutry_file_url = country_tag['href']\n",
    "coutry_file_url"
   ]
  },
  {
   "cell_type": "code",
   "execution_count": 22,
   "metadata": {},
   "outputs": [],
   "source": [
    "# construct the full url for the file link\n",
    "base_url = \"https://learnwithshin.github.io/docs/\"\n",
    "coutry_file_url = coutry_file_url.replace(\"../\", base_url)"
   ]
  },
  {
   "cell_type": "code",
   "execution_count": 23,
   "metadata": {},
   "outputs": [],
   "source": [
    "# now get the content for the file\n",
    "res = requests.get(coutry_file_url)\n",
    "# res.content.decode('utf-8')"
   ]
  },
  {
   "cell_type": "code",
   "execution_count": 41,
   "metadata": {},
   "outputs": [],
   "source": [
    "# save the file - use \"wb\" which stands for write bytes\n",
    "# becasuse requests.get(url) returns bytes\n",
    "with open(\"country_vaccinations.csv\", 'wb') as f:\n",
    "    f.write(res.content)"
   ]
  },
  {
   "cell_type": "markdown",
   "metadata": {},
   "source": [
    "## Refactor the code\n",
    "\n",
    "Refactor the code we went over and put them in functions. Now we are ready to move them to an actual python module."
   ]
  },
  {
   "cell_type": "code",
   "execution_count": 1,
   "metadata": {},
   "outputs": [],
   "source": [
    "import requests\n",
    "\n",
    "from bs4 import BeautifulSoup\n",
    "\n",
    "\n",
    "def get_content(url):\n",
    "    res = requests.get(url)\n",
    "    page_content = res.content.decode(\"utf-8\")\n",
    "    return page_content\n",
    "\n",
    "\n",
    "def save_download_file(content, file_name):\n",
    "    with open(file_name, \"wb\") as f:\n",
    "        f.write(content)\n",
    "    print(\"File saved!\")\n",
    "\n",
    "\n",
    "def get_data_source_from_lws(file_index, save=False, save_file_name=\"file.csv\"):\n",
    "    \"\"\"Get file source from learnwithshin.\"\"\"\n",
    "    url = \"https://learnwithshin.github.io/docs/files/\"\n",
    "    content = get_content(url)\n",
    "    soup = BeautifulSoup(content, \"html.parser\")\n",
    "    article = soup.find('article')\n",
    "    anchors = article.find_all(\"a\")\n",
    "    \n",
    "    base_url = \"https://learnwithshin.github.io/docs/\"\n",
    "    target_anchor = anchors[file_index]\n",
    "    file_url = target_anchor[\"href\"]\n",
    "    file_url = file_url.replace(\"../\", base_url)\n",
    "    \n",
    "    res = requests.get(file_url)\n",
    "    if save:\n",
    "        save_download_file(res.content, save_file_name)\n",
    "    return res.content"
   ]
  },
  {
   "cell_type": "code",
   "execution_count": 1,
   "metadata": {},
   "outputs": [],
   "source": [
    "get_data_source_from_lws(0, True, \"countries.csv\")"
   ]
  }
 ],
 "metadata": {
  "kernelspec": {
   "display_name": "Python 3.6.5 64-bit ('base': conda)",
   "language": "python",
   "name": "python36564bitbaseconda073a1d18fb274a708cf9265a3dde63f5"
  },
  "language_info": {
   "codemirror_mode": {
    "name": "ipython",
    "version": 3
   },
   "file_extension": ".py",
   "mimetype": "text/x-python",
   "name": "python",
   "nbconvert_exporter": "python",
   "pygments_lexer": "ipython3",
   "version": "3.6.5"
  }
 },
 "nbformat": 4,
 "nbformat_minor": 2
}
