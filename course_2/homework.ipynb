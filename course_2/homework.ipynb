{
 "cells": [
  {
   "cell_type": "markdown",
   "metadata": {},
   "source": [
    "# Parse top 10 rated movies from this URL:\n",
    "\n",
    "https://learnwithshin.github.io/docs/practices/top_rated_movies/\n",
    "\n",
    "--------------------------------------\n",
    "Our end result should look like this:\n",
    "\n",
    "```python\n",
    "[{\"title\": \"The Shawshank Redemption\", \"year\": \"(1994)\", \"rating\": \"9.2\"},...]\n",
    "```"
   ]
  },
  {
   "cell_type": "code",
   "execution_count": 1,
   "metadata": {},
   "outputs": [],
   "source": [
    "import requests\n",
    "res = requests.get(\"https://learnwithshin.github.io/docs/practices/top_rated_movies/\")\n",
    "\n",
    "page_content = res.content.decode(\"utf-8\")"
   ]
  },
  {
   "cell_type": "code",
   "execution_count": 4,
   "metadata": {},
   "outputs": [],
   "source": [
    "from bs4 import BeautifulSoup\n",
    "\n",
    "soup = BeautifulSoup(page_content, \"html.parser\")\n"
   ]
  },
  {
   "cell_type": "code",
   "execution_count": 10,
   "metadata": {},
   "outputs": [],
   "source": [
    "# find the article tag\n",
    "article = soup.find(\"article\")\n",
    "\n",
    "# once you narrow down to the article tag and dig a bit further, you will be able to find a tag called <table>\n",
    "# <table> tag represents a table in HTML\n",
    "table = article.find(\"table\")\n"
   ]
  },
  {
   "cell_type": "code",
   "execution_count": 14,
   "metadata": {},
   "outputs": [],
   "source": [
    "# the table tag can have rows represented as <tr> which is under <tbody>\n",
    "table_body = table.find(\"tbody\")\n",
    "# you can then find all <tr> using find_all\n",
    "rows = table_body.find_all(\"tr\")"
   ]
  },
  {
   "cell_type": "code",
   "execution_count": 20,
   "metadata": {},
   "outputs": [],
   "source": [
    "# create an empty list to store the result\n",
    "result = []\n",
    "\n",
    "# since our end result should look like this\n",
    "# [{\"title\": \"The Shawshank Redemption\", \"year\": \"(1994)\", \"rating\": \"9.2\"},...]\n",
    "\n",
    "# we will iterate through the rows and collect the data into the result list\n",
    "for row in rows:\n",
    "    # remember, each row is still a HTML tag, we can get all 3 datapoints by finding all <td>\n",
    "    # you can almost think each <td> is like an excel \"Cell\" that holds the actual data\n",
    "    cells = row.find_all(\"td\")\n",
    "    # each <td> tag has attribute \"text\" \n",
    "    title = cells[0].text\n",
    "    year = cells[1].text\n",
    "    rating = cells[2].text\n",
    "    \n",
    "    # finally just format the record and append to the result list\n",
    "    result.append({\"title\": title, \"year\": year, \"rating\": rating})"
   ]
  },
  {
   "cell_type": "code",
   "execution_count": 24,
   "metadata": {},
   "outputs": [
    {
     "data": {
      "text/plain": [
       "[{'title': 'The Shawshank Redemption', 'year': '(1994)', 'rating': '9.2'},\n",
       " {'title': 'The Godfather', 'year': '(1972)', 'rating': '9.1'},\n",
       " {'title': 'The Godfather: Part II', 'year': '(1974)', 'rating': '9.0'},\n",
       " {'title': 'The Dark Knight', 'year': '(2008)', 'rating': '9.0'},\n",
       " {'title': '12 Angry Men', 'year': '(1957)', 'rating': '8.9'},\n",
       " {'title': \"Schindler's List\", 'year': '(1993)', 'rating': '8.9'},\n",
       " {'title': 'The Lord of the Rings: The Return of the King',\n",
       "  'year': '(2003)',\n",
       "  'rating': '8.9'},\n",
       " {'title': 'Pulp Fiction', 'year': '(1994)', 'rating': '8.8'},\n",
       " {'title': 'The Good, the Bad and the Ugly',\n",
       "  'year': '(1966)',\n",
       "  'rating': '8.8'},\n",
       " {'title': 'The Lord of the Rings: The Fellowship of the Ring',\n",
       "  'year': '(2001)',\n",
       "  'rating': '8.8'}]"
      ]
     },
     "execution_count": 24,
     "metadata": {},
     "output_type": "execute_result"
    }
   ],
   "source": [
    "# Now result will give you all the data :)\n",
    "# for our purpose, we just need to get the top 10 and since we know it's sorted by rating already\n",
    "# we can simply use\n",
    "result[:10]  \n",
    "\n",
    "# there we have our result :)"
   ]
  },
  {
   "cell_type": "markdown",
   "metadata": {},
   "source": [
    "## Bonus\n",
    "\n",
    "We can convert this to a pandas DataFrame which can help us process the data if needed!"
   ]
  },
  {
   "cell_type": "code",
   "execution_count": 30,
   "metadata": {},
   "outputs": [],
   "source": [
    "import pandas as pd\n",
    "\n",
    "# this works becasue we have our result formated in such a way it can be digested by pandans DataFrame\n",
    "movies = pd.DataFrame(result)"
   ]
  },
  {
   "cell_type": "code",
   "execution_count": 28,
   "metadata": {},
   "outputs": [],
   "source": [
    "top_10_movies = movies.head(10)"
   ]
  },
  {
   "cell_type": "code",
   "execution_count": 29,
   "metadata": {},
   "outputs": [
    {
     "data": {
      "text/html": [
       "<div>\n",
       "<style scoped>\n",
       "    .dataframe tbody tr th:only-of-type {\n",
       "        vertical-align: middle;\n",
       "    }\n",
       "\n",
       "    .dataframe tbody tr th {\n",
       "        vertical-align: top;\n",
       "    }\n",
       "\n",
       "    .dataframe thead th {\n",
       "        text-align: right;\n",
       "    }\n",
       "</style>\n",
       "<table border=\"1\" class=\"dataframe\">\n",
       "  <thead>\n",
       "    <tr style=\"text-align: right;\">\n",
       "      <th></th>\n",
       "      <th>title</th>\n",
       "      <th>year</th>\n",
       "      <th>rating</th>\n",
       "    </tr>\n",
       "  </thead>\n",
       "  <tbody>\n",
       "    <tr>\n",
       "      <th>0</th>\n",
       "      <td>The Shawshank Redemption</td>\n",
       "      <td>(1994)</td>\n",
       "      <td>9.2</td>\n",
       "    </tr>\n",
       "    <tr>\n",
       "      <th>1</th>\n",
       "      <td>The Godfather</td>\n",
       "      <td>(1972)</td>\n",
       "      <td>9.1</td>\n",
       "    </tr>\n",
       "    <tr>\n",
       "      <th>2</th>\n",
       "      <td>The Godfather: Part II</td>\n",
       "      <td>(1974)</td>\n",
       "      <td>9.0</td>\n",
       "    </tr>\n",
       "    <tr>\n",
       "      <th>3</th>\n",
       "      <td>The Dark Knight</td>\n",
       "      <td>(2008)</td>\n",
       "      <td>9.0</td>\n",
       "    </tr>\n",
       "    <tr>\n",
       "      <th>4</th>\n",
       "      <td>12 Angry Men</td>\n",
       "      <td>(1957)</td>\n",
       "      <td>8.9</td>\n",
       "    </tr>\n",
       "    <tr>\n",
       "      <th>5</th>\n",
       "      <td>Schindler's List</td>\n",
       "      <td>(1993)</td>\n",
       "      <td>8.9</td>\n",
       "    </tr>\n",
       "    <tr>\n",
       "      <th>6</th>\n",
       "      <td>The Lord of the Rings: The Return of the King</td>\n",
       "      <td>(2003)</td>\n",
       "      <td>8.9</td>\n",
       "    </tr>\n",
       "    <tr>\n",
       "      <th>7</th>\n",
       "      <td>Pulp Fiction</td>\n",
       "      <td>(1994)</td>\n",
       "      <td>8.8</td>\n",
       "    </tr>\n",
       "    <tr>\n",
       "      <th>8</th>\n",
       "      <td>The Good, the Bad and the Ugly</td>\n",
       "      <td>(1966)</td>\n",
       "      <td>8.8</td>\n",
       "    </tr>\n",
       "    <tr>\n",
       "      <th>9</th>\n",
       "      <td>The Lord of the Rings: The Fellowship of the Ring</td>\n",
       "      <td>(2001)</td>\n",
       "      <td>8.8</td>\n",
       "    </tr>\n",
       "  </tbody>\n",
       "</table>\n",
       "</div>"
      ],
      "text/plain": [
       "                                               title    year rating\n",
       "0                           The Shawshank Redemption  (1994)    9.2\n",
       "1                                      The Godfather  (1972)    9.1\n",
       "2                             The Godfather: Part II  (1974)    9.0\n",
       "3                                    The Dark Knight  (2008)    9.0\n",
       "4                                       12 Angry Men  (1957)    8.9\n",
       "5                                   Schindler's List  (1993)    8.9\n",
       "6      The Lord of the Rings: The Return of the King  (2003)    8.9\n",
       "7                                       Pulp Fiction  (1994)    8.8\n",
       "8                     The Good, the Bad and the Ugly  (1966)    8.8\n",
       "9  The Lord of the Rings: The Fellowship of the Ring  (2001)    8.8"
      ]
     },
     "execution_count": 29,
     "metadata": {},
     "output_type": "execute_result"
    }
   ],
   "source": [
    "top_10_movies  # in a nicely formated DataFrame"
   ]
  },
  {
   "cell_type": "code",
   "execution_count": 32,
   "metadata": {},
   "outputs": [],
   "source": [
    "# and of course now you can save the file as csv if you want to\n",
    "movies.to_csv(\"movies_with_ratings.csv\")"
   ]
  }
 ],
 "metadata": {
  "kernelspec": {
   "display_name": "Python 3.6.5 64-bit ('base': conda)",
   "language": "python",
   "name": "python36564bitbaseconda073a1d18fb274a708cf9265a3dde63f5"
  },
  "language_info": {
   "codemirror_mode": {
    "name": "ipython",
    "version": 3
   },
   "file_extension": ".py",
   "mimetype": "text/x-python",
   "name": "python",
   "nbconvert_exporter": "python",
   "pygments_lexer": "ipython3",
   "version": "3.6.5"
  }
 },
 "nbformat": 4,
 "nbformat_minor": 2
}
