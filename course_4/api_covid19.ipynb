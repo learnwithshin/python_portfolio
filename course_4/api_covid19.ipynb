{
 "cells": [
  {
   "cell_type": "markdown",
   "metadata": {},
   "source": [
    "# Use API to get data\n",
    "\n",
    "Use public API to get data about covid19 confirmed cases by country."
   ]
  },
  {
   "cell_type": "code",
   "execution_count": 79,
   "metadata": {},
   "outputs": [],
   "source": [
    "import requests\n",
    "from datetime import datetime\n",
    "\n",
    "start = '2021-1-1'\n",
    "end = str(datetime.today())\n",
    "\n",
    "country = 'japan'\n",
    "\n",
    "# api provided by https://covid19api.com/\n",
    "# note: sometimes the server can be unstable and the request could fail\n",
    "endpoint = f'https://api.covid19api.com/total/country/{country}/status/confirmed'\n",
    "\n",
    "params = {'from': start, 'to': end}\n",
    "res = requests.get(endpoint, params=params)"
   ]
  },
  {
   "cell_type": "code",
   "execution_count": 87,
   "metadata": {},
   "outputs": [
    {
     "data": {
      "text/plain": [
       "<Response [200]>"
      ]
     },
     "execution_count": 87,
     "metadata": {},
     "output_type": "execute_result"
    }
   ],
   "source": [
    "res"
   ]
  },
  {
   "cell_type": "code",
   "execution_count": 81,
   "metadata": {},
   "outputs": [
    {
     "data": {
      "text/plain": [
       "[{'Country': 'Japan',\n",
       "  'CountryCode': '',\n",
       "  'Province': '',\n",
       "  'City': '',\n",
       "  'CityCode': '',\n",
       "  'Lat': '0',\n",
       "  'Lon': '0',\n",
       "  'Cases': 239068,\n",
       "  'Status': 'confirmed',\n",
       "  'Date': '2021-01-01T00:00:00Z'},\n",
       " {'Country': 'Japan',\n",
       "  'CountryCode': '',\n",
       "  'Province': '',\n",
       "  'City': '',\n",
       "  'CityCode': '',\n",
       "  'Lat': '0',\n",
       "  'Lon': '0',\n",
       "  'Cases': 242097,\n",
       "  'Status': 'confirmed',\n",
       "  'Date': '2021-01-02T00:00:00Z'},\n",
       " {'Country': 'Japan',\n",
       "  'CountryCode': '',\n",
       "  'Province': '',\n",
       "  'City': '',\n",
       "  'CityCode': '',\n",
       "  'Lat': '0',\n",
       "  'Lon': '0',\n",
       "  'Cases': 245293,\n",
       "  'Status': 'confirmed',\n",
       "  'Date': '2021-01-03T00:00:00Z'},\n",
       " {'Country': 'Japan',\n",
       "  'CountryCode': '',\n",
       "  'Province': '',\n",
       "  'City': '',\n",
       "  'CityCode': '',\n",
       "  'Lat': '0',\n",
       "  'Lon': '0',\n",
       "  'Cases': 248625,\n",
       "  'Status': 'confirmed',\n",
       "  'Date': '2021-01-04T00:00:00Z'},\n",
       " {'Country': 'Japan',\n",
       "  'CountryCode': '',\n",
       "  'Province': '',\n",
       "  'City': '',\n",
       "  'CityCode': '',\n",
       "  'Lat': '0',\n",
       "  'Lon': '0',\n",
       "  'Cases': 253571,\n",
       "  'Status': 'confirmed',\n",
       "  'Date': '2021-01-05T00:00:00Z'}]"
      ]
     },
     "execution_count": 81,
     "metadata": {},
     "output_type": "execute_result"
    }
   ],
   "source": [
    "res.json()[:5]  # let's take a peek what we got back (here just show top 5 records)"
   ]
  },
  {
   "cell_type": "code",
   "execution_count": 27,
   "metadata": {},
   "outputs": [],
   "source": [
    "# and you can directly convert this to a pandas dataframe!\n",
    "from pandas import DataFrame\n",
    "df = DataFrame(res.json())"
   ]
  },
  {
   "cell_type": "code",
   "execution_count": 28,
   "metadata": {},
   "outputs": [
    {
     "data": {
      "text/html": [
       "<div>\n",
       "<style scoped>\n",
       "    .dataframe tbody tr th:only-of-type {\n",
       "        vertical-align: middle;\n",
       "    }\n",
       "\n",
       "    .dataframe tbody tr th {\n",
       "        vertical-align: top;\n",
       "    }\n",
       "\n",
       "    .dataframe thead th {\n",
       "        text-align: right;\n",
       "    }\n",
       "</style>\n",
       "<table border=\"1\" class=\"dataframe\">\n",
       "  <thead>\n",
       "    <tr style=\"text-align: right;\">\n",
       "      <th></th>\n",
       "      <th>Country</th>\n",
       "      <th>CountryCode</th>\n",
       "      <th>Province</th>\n",
       "      <th>City</th>\n",
       "      <th>CityCode</th>\n",
       "      <th>Lat</th>\n",
       "      <th>Lon</th>\n",
       "      <th>Cases</th>\n",
       "      <th>Status</th>\n",
       "      <th>Date</th>\n",
       "    </tr>\n",
       "  </thead>\n",
       "  <tbody>\n",
       "    <tr>\n",
       "      <th>0</th>\n",
       "      <td>Taiwan, Republic of China</td>\n",
       "      <td></td>\n",
       "      <td></td>\n",
       "      <td></td>\n",
       "      <td></td>\n",
       "      <td>0</td>\n",
       "      <td>0</td>\n",
       "      <td>802</td>\n",
       "      <td>confirmed</td>\n",
       "      <td>2021-01-01T00:00:00Z</td>\n",
       "    </tr>\n",
       "    <tr>\n",
       "      <th>1</th>\n",
       "      <td>Taiwan, Republic of China</td>\n",
       "      <td></td>\n",
       "      <td></td>\n",
       "      <td></td>\n",
       "      <td></td>\n",
       "      <td>0</td>\n",
       "      <td>0</td>\n",
       "      <td>808</td>\n",
       "      <td>confirmed</td>\n",
       "      <td>2021-01-02T00:00:00Z</td>\n",
       "    </tr>\n",
       "    <tr>\n",
       "      <th>2</th>\n",
       "      <td>Taiwan, Republic of China</td>\n",
       "      <td></td>\n",
       "      <td></td>\n",
       "      <td></td>\n",
       "      <td></td>\n",
       "      <td>0</td>\n",
       "      <td>0</td>\n",
       "      <td>812</td>\n",
       "      <td>confirmed</td>\n",
       "      <td>2021-01-03T00:00:00Z</td>\n",
       "    </tr>\n",
       "    <tr>\n",
       "      <th>3</th>\n",
       "      <td>Taiwan, Republic of China</td>\n",
       "      <td></td>\n",
       "      <td></td>\n",
       "      <td></td>\n",
       "      <td></td>\n",
       "      <td>0</td>\n",
       "      <td>0</td>\n",
       "      <td>815</td>\n",
       "      <td>confirmed</td>\n",
       "      <td>2021-01-04T00:00:00Z</td>\n",
       "    </tr>\n",
       "    <tr>\n",
       "      <th>4</th>\n",
       "      <td>Taiwan, Republic of China</td>\n",
       "      <td></td>\n",
       "      <td></td>\n",
       "      <td></td>\n",
       "      <td></td>\n",
       "      <td>0</td>\n",
       "      <td>0</td>\n",
       "      <td>817</td>\n",
       "      <td>confirmed</td>\n",
       "      <td>2021-01-05T00:00:00Z</td>\n",
       "    </tr>\n",
       "  </tbody>\n",
       "</table>\n",
       "</div>"
      ],
      "text/plain": [
       "                     Country CountryCode Province City CityCode Lat Lon  \\\n",
       "0  Taiwan, Republic of China                                      0   0   \n",
       "1  Taiwan, Republic of China                                      0   0   \n",
       "2  Taiwan, Republic of China                                      0   0   \n",
       "3  Taiwan, Republic of China                                      0   0   \n",
       "4  Taiwan, Republic of China                                      0   0   \n",
       "\n",
       "   Cases     Status                  Date  \n",
       "0    802  confirmed  2021-01-01T00:00:00Z  \n",
       "1    808  confirmed  2021-01-02T00:00:00Z  \n",
       "2    812  confirmed  2021-01-03T00:00:00Z  \n",
       "3    815  confirmed  2021-01-04T00:00:00Z  \n",
       "4    817  confirmed  2021-01-05T00:00:00Z  "
      ]
     },
     "execution_count": 28,
     "metadata": {},
     "output_type": "execute_result"
    }
   ],
   "source": [
    "df.head()"
   ]
  },
  {
   "cell_type": "markdown",
   "metadata": {},
   "source": [
    "# Put together a function"
   ]
  },
  {
   "cell_type": "code",
   "execution_count": 88,
   "metadata": {},
   "outputs": [],
   "source": [
    "from datetime import datetime\n",
    "import pandas as pd\n",
    "import requests\n",
    "\n",
    "\n",
    "def get_confirmed_cases_api(countries):\n",
    "    start = '2021-1-1'\n",
    "    end = str(datetime.today())\n",
    "    params = {'from': start, 'to': end}\n",
    "    output = []\n",
    "    for country in countries:\n",
    "        print(f\"Calling API for {country}\")\n",
    "        endpoint = f'https://api.covid19api.com/total/country/{country}/status/confirmed'\n",
    "        try:\n",
    "            res = requests.get(endpoint, params=params)\n",
    "            data = res.json()  # return a list of every day record\n",
    "            for each_record in data:\n",
    "                cases = each_record['Cases']\n",
    "                date = each_record['Date']\n",
    "                output.append({\"country\": country, \"cases\": cases, \"date\": date})\n",
    "        except Exception as err:\n",
    "            print(f\"Error for {country}:\")\n",
    "            print(err)\n",
    "    # convert to dataframe\n",
    "    df = pd.DataFrame(output)\n",
    "    \n",
    "    # modify date format for 'date' column\n",
    "    df['date'] = pd.to_datetime(df['date']).dt.strftime('%Y-%m-%d')\n",
    "    # creage a column called id\n",
    "    df['id'] = df['country'] + df['date']\n",
    "    \n",
    "    return df\n",
    "        "
   ]
  },
  {
   "cell_type": "code",
   "execution_count": 89,
   "metadata": {
    "scrolled": true
   },
   "outputs": [
    {
     "name": "stdout",
     "output_type": "stream",
     "text": [
      "Calling API for taiwan\n",
      "Calling API for japan\n"
     ]
    }
   ],
   "source": [
    "# look at that!\n",
    "countries = [\"taiwan\", \"japan\"]\n",
    "df = get_confirmed_cases_api(countries)"
   ]
  },
  {
   "cell_type": "code",
   "execution_count": 90,
   "metadata": {},
   "outputs": [
    {
     "data": {
      "text/html": [
       "<div>\n",
       "<style scoped>\n",
       "    .dataframe tbody tr th:only-of-type {\n",
       "        vertical-align: middle;\n",
       "    }\n",
       "\n",
       "    .dataframe tbody tr th {\n",
       "        vertical-align: top;\n",
       "    }\n",
       "\n",
       "    .dataframe thead th {\n",
       "        text-align: right;\n",
       "    }\n",
       "</style>\n",
       "<table border=\"1\" class=\"dataframe\">\n",
       "  <thead>\n",
       "    <tr style=\"text-align: right;\">\n",
       "      <th></th>\n",
       "      <th>country</th>\n",
       "      <th>cases</th>\n",
       "      <th>date</th>\n",
       "      <th>id</th>\n",
       "    </tr>\n",
       "  </thead>\n",
       "  <tbody>\n",
       "    <tr>\n",
       "      <th>0</th>\n",
       "      <td>taiwan</td>\n",
       "      <td>802</td>\n",
       "      <td>2021-01-01</td>\n",
       "      <td>taiwan2021-01-01</td>\n",
       "    </tr>\n",
       "    <tr>\n",
       "      <th>1</th>\n",
       "      <td>taiwan</td>\n",
       "      <td>808</td>\n",
       "      <td>2021-01-02</td>\n",
       "      <td>taiwan2021-01-02</td>\n",
       "    </tr>\n",
       "    <tr>\n",
       "      <th>2</th>\n",
       "      <td>taiwan</td>\n",
       "      <td>812</td>\n",
       "      <td>2021-01-03</td>\n",
       "      <td>taiwan2021-01-03</td>\n",
       "    </tr>\n",
       "    <tr>\n",
       "      <th>3</th>\n",
       "      <td>taiwan</td>\n",
       "      <td>815</td>\n",
       "      <td>2021-01-04</td>\n",
       "      <td>taiwan2021-01-04</td>\n",
       "    </tr>\n",
       "    <tr>\n",
       "      <th>4</th>\n",
       "      <td>taiwan</td>\n",
       "      <td>817</td>\n",
       "      <td>2021-01-05</td>\n",
       "      <td>taiwan2021-01-05</td>\n",
       "    </tr>\n",
       "  </tbody>\n",
       "</table>\n",
       "</div>"
      ],
      "text/plain": [
       "  country  cases        date                id\n",
       "0  taiwan    802  2021-01-01  taiwan2021-01-01\n",
       "1  taiwan    808  2021-01-02  taiwan2021-01-02\n",
       "2  taiwan    812  2021-01-03  taiwan2021-01-03\n",
       "3  taiwan    815  2021-01-04  taiwan2021-01-04\n",
       "4  taiwan    817  2021-01-05  taiwan2021-01-05"
      ]
     },
     "execution_count": 90,
     "metadata": {},
     "output_type": "execute_result"
    }
   ],
   "source": [
    "df.head()"
   ]
  },
  {
   "cell_type": "code",
   "execution_count": null,
   "metadata": {},
   "outputs": [],
   "source": []
  }
 ],
 "metadata": {
  "kernelspec": {
   "display_name": "Python 3.6.5 64-bit ('base': conda)",
   "language": "python",
   "name": "python36564bitbaseconda073a1d18fb274a708cf9265a3dde63f5"
  },
  "language_info": {
   "codemirror_mode": {
    "name": "ipython",
    "version": 3
   },
   "file_extension": ".py",
   "mimetype": "text/x-python",
   "name": "python",
   "nbconvert_exporter": "python",
   "pygments_lexer": "ipython3",
   "version": "3.6.5"
  }
 },
 "nbformat": 4,
 "nbformat_minor": 4
}
